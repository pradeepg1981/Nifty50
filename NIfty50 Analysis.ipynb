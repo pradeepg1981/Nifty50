{
 "cells": [
  {
   "cell_type": "code",
   "execution_count": 1,
   "metadata": {},
   "outputs": [],
   "source": [
    "import pandas as pd\n",
    "import numpy as np\n",
    "import math\n",
    "import matplotlib.pyplot as plt\n",
    "import scipy.stats as stats\n",
    "import yfinance as yfin\n",
    "\n",
    "import requests\n",
    "import xlsxwriter\n",
    "from datetime import date\n",
    "\n",
    "import oneMonthRet ##oneMonthRet is a module which reurns the return percentage"
   ]
  },
  {
   "cell_type": "markdown",
   "metadata": {},
   "source": [
    "# Import the Nifty stocks"
   ]
  },
  {
   "cell_type": "code",
   "execution_count": 2,
   "metadata": {},
   "outputs": [],
   "source": [
    "###@@@@ ADD .NS to stock names as yahoo uses [StockName].NS\n",
    "################ NIFTY50 #############################\n",
    "# fileName='NIFTY50.csv'\n",
    "# # fileName='MIDCAP50_Yahoo.csv'\n",
    "# stocks=stockName('NIFTY50.csv')\n",
    "# column_lst=niftyStocks(stocks)\n",
    "# # niftyReturn()\n",
    "\n",
    "def stockName(fileName):\n",
    "    data=pd.read_csv(fileName)\n",
    "    stocks=data['Symbol']\n",
    "    for i in range(0,len(stocks)):\n",
    "        stocks[i]=stocks[i]+'.NS'\n",
    "    return stocks"
   ]
  },
  {
   "cell_type": "code",
   "execution_count": 3,
   "metadata": {},
   "outputs": [],
   "source": [
    "def niftyStocks(stocks):\n",
    "    yfin\n",
    "    CMP=[] #current market price\n",
    "    MC=[] # MarketCap\n",
    "    TPE=[] #trailing PE\n",
    "    SECTOR=[]\n",
    "    dict_nifty_details={} ### this list will contain all the above list\n",
    "    for name in stocks:\n",
    "        ticker = yfin.Ticker(name)\n",
    "        lst=ticker.info.keys()\n",
    "#         print(ticker.info)\n",
    "        CMP.append(ticker.info['regularMarketPrice'])\n",
    "#         MC.append(ticker.info['marketCap'])\n",
    "#         SECTOR.append(ticker.info['sector'])\n",
    "        if (list(lst).count('trailingPE')!=0):\n",
    "            TPE.append(ticker.info['trailingPE'])\n",
    "        else:\n",
    "            TPE.append('NaN')\n",
    "    \n",
    "    dict_nifty_details={'Name':stocks,'CMP':CMP,'MarketCap':MC,'TrailingPE':TPE,'Sector':SECTOR}\n",
    "    return dict_nifty_details\n",
    "        # x= lambda y: TPE.append(tpe) if list(lst).count('trailingPE')!=0 else TPE.append('NaN')"
   ]
  },
  {
   "cell_type": "code",
   "execution_count": 4,
   "metadata": {},
   "outputs": [],
   "source": [
    "def companyData(name,duration,start,end):\n",
    "    yfin\n",
    "    ticker = yfin.Ticker(name)\n",
    "    if (len(start)!= 0 and len(end)!=0):\n",
    "        data=ticker.history(start=start,end=end)\n",
    "    else:\n",
    "        data=ticker.history(period=duration)\n",
    "        \n",
    "    month=data.index.month\n",
    "    month=month.value_counts().index\n",
    "    year=data.index.year\n",
    "    year= year.value_counts().index\n",
    "    year=year.sort_values(ascending=True)\n",
    "    return (data,ticker,year,month)"
   ]
  },
  {
   "cell_type": "code",
   "execution_count": 5,
   "metadata": {},
   "outputs": [],
   "source": [
    "def retForFixedPeriod(data):\n",
    "    mnth_OP=[]  ##month open price\n",
    "    mnth_CP=[]  ##month close price\n",
    "    \n",
    "    mnth_OP= data['Open'][0]\n",
    "    mnth_CP= data['Close'][len(data)-1]\n",
    "    ret=percDiff(mnth_OP,mnth_CP)\n",
    "    return ret"
   ]
  },
  {
   "cell_type": "code",
   "execution_count": 6,
   "metadata": {},
   "outputs": [],
   "source": [
    "def percDiff(a,b):\n",
    "    perc= ((b-a)*100)/a\n",
    "    return perc"
   ]
  },
  {
   "cell_type": "code",
   "execution_count": 7,
   "metadata": {},
   "outputs": [],
   "source": [
    "def niftyReturn():    \n",
    "    month_ret=[] ##monthly return\n",
    "    three_month_ret=[] ## 3 monthly return\n",
    "    six_month_ret=[] ## 6 month return\n",
    "    one_year_ret=[] ## 1 year return\n",
    "    one_year_percentile=[] # 1 year precentile\n",
    "    six_month_percentile=[]\n",
    "    three_month_percentile=[]\n",
    "    month_percentile=[]\n",
    "    Avg_Score=[] ## average of all percentiles\n",
    "    dict_nifty_returns={} ### dictionary containing the data on return percentage\n",
    "    for name in stocks:\n",
    "        #OneMonData,ticker,year,month=oneMonthRet.company(name,'','2021-02-01','2021-02-28')\n",
    "        OneMonData,ticker,year,month=companyData(name,'','2021-02-01','2021-02-28')\n",
    "        month_ret.append(retForFixedPeriod(OneMonData))\n",
    "        #month_ret.append(oneMonthRet.OneMonthRet(OneMonData))\n",
    "        #ThreeMonData,ticker,year,month=oneMonthRet.company(name,'3mo','','')\n",
    "        ThreeMonData,ticker,year,month=companyData(name,'3mo','','')\n",
    "        three_month_ret.append(retForFixedPeriod(ThreeMonData))\n",
    "        #three_month_ret.append(oneMonthRet.OneMonthRet(ThreeMonData))\n",
    "        #SixMonData,ticker,year,month=oneMonthRet.company(name,'6mo','','')\n",
    "        SixMonData,ticker,year,month=companyData(name,'6mo','','')\n",
    "        six_month_ret.append(retForFixedPeriod(SixMonData))\n",
    "        #six_month_ret.append(oneMonthRet.OneMonthRet(SixMonData))\n",
    "        #OneYrData,ticker,year,month=oneMonthRet.company(name,'1y','','')\n",
    "        OneYrData,ticker,year,month=companyData(name,'1y','','')\n",
    "        one_year_ret.append(retForFixedPeriod(OneYrData))\n",
    "        #one_year_ret.append(oneMonthRet.OneMonthRet(OneYrData))\n",
    "    # pd.DataFrame(dict).sort_values(by='1MonthReturn',ascending=False)\n",
    "    # pd.DataFrame(dict).sort_values(by='MarketCap',ascending=False)\n",
    "    for i in range(0, len(stocks)):\n",
    "        x=stats.percentileofscore(month_ret,month_ret[i])/100\n",
    "        y=stats.percentileofscore(three_month_ret,three_month_ret[i])/100\n",
    "        z=stats.percentileofscore(six_month_ret,six_month_ret[i])/100\n",
    "        n=stats.percentileofscore(one_year_ret,one_year_ret[i])/100\n",
    "        month_percentile.append(x)\n",
    "        three_month_percentile.append(y)\n",
    "        six_month_percentile.append(z)\n",
    "        one_year_percentile.append(n)\n",
    "        Avg_Score.append((x+y+z+n)/4)\n",
    "    dict_nifty_returns={'Name':stocks,'1MonthReturn':month_ret,'1MonthPercentile':month_percentile,\n",
    "      '3MonthReturn':three_month_ret,'3MonthPercentile':three_month_percentile,\n",
    "     '6MonthReturn':six_month_ret,'6MonthPercentile':six_month_percentile,\n",
    "      '1YearReturn':one_year_ret,'1YearPercentile':one_year_percentile,'AvgScore':Avg_Score}\n",
    "    \n",
    "    return dict_nifty_returns"
   ]
  },
  {
   "cell_type": "markdown",
   "metadata": {},
   "source": [
    "# NIFTY50\n",
    "Read the nifty50 file and get the return data"
   ]
  },
  {
   "cell_type": "code",
   "execution_count": 8,
   "metadata": {},
   "outputs": [
    {
     "name": "stderr",
     "output_type": "stream",
     "text": [
      "C:\\Users\\PRADEEP\\Anaconda3\\lib\\site-packages\\ipykernel_launcher.py:13: SettingWithCopyWarning: \n",
      "A value is trying to be set on a copy of a slice from a DataFrame\n",
      "\n",
      "See the caveats in the documentation: http://pandas.pydata.org/pandas-docs/stable/user_guide/indexing.html#returning-a-view-versus-a-copy\n",
      "  del sys.path[0]\n"
     ]
    },
    {
     "ename": "JSONDecodeError",
     "evalue": "Expecting value: line 1 column 1 (char 0)",
     "output_type": "error",
     "traceback": [
      "\u001b[1;31m---------------------------------------------------------------------------\u001b[0m",
      "\u001b[1;31mJSONDecodeError\u001b[0m                           Traceback (most recent call last)",
      "\u001b[1;32m<ipython-input-8-cc263125120e>\u001b[0m in \u001b[0;36m<module>\u001b[1;34m\u001b[0m\n\u001b[0;32m      4\u001b[0m \u001b[1;31m#stocks=stockName('MIDCAP150.csv')\u001b[0m\u001b[1;33m\u001b[0m\u001b[1;33m\u001b[0m\u001b[1;33m\u001b[0m\u001b[0m\n\u001b[0;32m      5\u001b[0m \u001b[0mdict_nifty_details\u001b[0m\u001b[1;33m=\u001b[0m\u001b[0mniftyStocks\u001b[0m\u001b[1;33m(\u001b[0m\u001b[0mstocks\u001b[0m\u001b[1;33m)\u001b[0m\u001b[1;33m\u001b[0m\u001b[1;33m\u001b[0m\u001b[0m\n\u001b[1;32m----> 6\u001b[1;33m \u001b[0mdict_nifty_returns\u001b[0m\u001b[1;33m=\u001b[0m\u001b[0mniftyReturn\u001b[0m\u001b[1;33m(\u001b[0m\u001b[1;33m)\u001b[0m\u001b[1;33m\u001b[0m\u001b[1;33m\u001b[0m\u001b[0m\n\u001b[0m\u001b[0;32m      7\u001b[0m \u001b[1;31m# dict1={'Name':stocks,'CMP':CMP,'MarketCap':MC,'TrailingPE':TPE,'1MonthReturn':month_ret,'1MonthPercentile':month_percentile,\u001b[0m\u001b[1;33m\u001b[0m\u001b[1;33m\u001b[0m\u001b[1;33m\u001b[0m\u001b[0m\n\u001b[0;32m      8\u001b[0m \u001b[1;31m#       '3MonthReturn':three_month_ret,'3MonthPercentile':three_month_percentile,\u001b[0m\u001b[1;33m\u001b[0m\u001b[1;33m\u001b[0m\u001b[1;33m\u001b[0m\u001b[0m\n",
      "\u001b[1;32m<ipython-input-7-ee6f8b0b838b>\u001b[0m in \u001b[0;36mniftyReturn\u001b[1;34m()\u001b[0m\n\u001b[0;32m     12\u001b[0m     \u001b[1;32mfor\u001b[0m \u001b[0mname\u001b[0m \u001b[1;32min\u001b[0m \u001b[0mstocks\u001b[0m\u001b[1;33m:\u001b[0m\u001b[1;33m\u001b[0m\u001b[1;33m\u001b[0m\u001b[0m\n\u001b[0;32m     13\u001b[0m         \u001b[1;31m#OneMonData,ticker,year,month=oneMonthRet.company(name,'','2021-02-01','2021-02-28')\u001b[0m\u001b[1;33m\u001b[0m\u001b[1;33m\u001b[0m\u001b[1;33m\u001b[0m\u001b[0m\n\u001b[1;32m---> 14\u001b[1;33m         \u001b[0mOneMonData\u001b[0m\u001b[1;33m,\u001b[0m\u001b[0mticker\u001b[0m\u001b[1;33m,\u001b[0m\u001b[0myear\u001b[0m\u001b[1;33m,\u001b[0m\u001b[0mmonth\u001b[0m\u001b[1;33m=\u001b[0m\u001b[0mcompanyData\u001b[0m\u001b[1;33m(\u001b[0m\u001b[0mname\u001b[0m\u001b[1;33m,\u001b[0m\u001b[1;34m''\u001b[0m\u001b[1;33m,\u001b[0m\u001b[1;34m'2021-02-01'\u001b[0m\u001b[1;33m,\u001b[0m\u001b[1;34m'2021-02-28'\u001b[0m\u001b[1;33m)\u001b[0m\u001b[1;33m\u001b[0m\u001b[1;33m\u001b[0m\u001b[0m\n\u001b[0m\u001b[0;32m     15\u001b[0m         \u001b[0mmonth_ret\u001b[0m\u001b[1;33m.\u001b[0m\u001b[0mappend\u001b[0m\u001b[1;33m(\u001b[0m\u001b[0mretForFixedPeriod\u001b[0m\u001b[1;33m(\u001b[0m\u001b[0mOneMonData\u001b[0m\u001b[1;33m)\u001b[0m\u001b[1;33m)\u001b[0m\u001b[1;33m\u001b[0m\u001b[1;33m\u001b[0m\u001b[0m\n\u001b[0;32m     16\u001b[0m         \u001b[1;31m#month_ret.append(oneMonthRet.OneMonthRet(OneMonData))\u001b[0m\u001b[1;33m\u001b[0m\u001b[1;33m\u001b[0m\u001b[1;33m\u001b[0m\u001b[0m\n",
      "\u001b[1;32m<ipython-input-4-da41d2178584>\u001b[0m in \u001b[0;36mcompanyData\u001b[1;34m(name, duration, start, end)\u001b[0m\n\u001b[0;32m      3\u001b[0m     \u001b[0mticker\u001b[0m \u001b[1;33m=\u001b[0m \u001b[0myfin\u001b[0m\u001b[1;33m.\u001b[0m\u001b[0mTicker\u001b[0m\u001b[1;33m(\u001b[0m\u001b[0mname\u001b[0m\u001b[1;33m)\u001b[0m\u001b[1;33m\u001b[0m\u001b[1;33m\u001b[0m\u001b[0m\n\u001b[0;32m      4\u001b[0m     \u001b[1;32mif\u001b[0m \u001b[1;33m(\u001b[0m\u001b[0mlen\u001b[0m\u001b[1;33m(\u001b[0m\u001b[0mstart\u001b[0m\u001b[1;33m)\u001b[0m\u001b[1;33m!=\u001b[0m \u001b[1;36m0\u001b[0m \u001b[1;32mand\u001b[0m \u001b[0mlen\u001b[0m\u001b[1;33m(\u001b[0m\u001b[0mend\u001b[0m\u001b[1;33m)\u001b[0m\u001b[1;33m!=\u001b[0m\u001b[1;36m0\u001b[0m\u001b[1;33m)\u001b[0m\u001b[1;33m:\u001b[0m\u001b[1;33m\u001b[0m\u001b[1;33m\u001b[0m\u001b[0m\n\u001b[1;32m----> 5\u001b[1;33m         \u001b[0mdata\u001b[0m\u001b[1;33m=\u001b[0m\u001b[0mticker\u001b[0m\u001b[1;33m.\u001b[0m\u001b[0mhistory\u001b[0m\u001b[1;33m(\u001b[0m\u001b[0mstart\u001b[0m\u001b[1;33m=\u001b[0m\u001b[0mstart\u001b[0m\u001b[1;33m,\u001b[0m\u001b[0mend\u001b[0m\u001b[1;33m=\u001b[0m\u001b[0mend\u001b[0m\u001b[1;33m)\u001b[0m\u001b[1;33m\u001b[0m\u001b[1;33m\u001b[0m\u001b[0m\n\u001b[0m\u001b[0;32m      6\u001b[0m     \u001b[1;32melse\u001b[0m\u001b[1;33m:\u001b[0m\u001b[1;33m\u001b[0m\u001b[1;33m\u001b[0m\u001b[0m\n\u001b[0;32m      7\u001b[0m         \u001b[0mdata\u001b[0m\u001b[1;33m=\u001b[0m\u001b[0mticker\u001b[0m\u001b[1;33m.\u001b[0m\u001b[0mhistory\u001b[0m\u001b[1;33m(\u001b[0m\u001b[0mperiod\u001b[0m\u001b[1;33m=\u001b[0m\u001b[0mduration\u001b[0m\u001b[1;33m)\u001b[0m\u001b[1;33m\u001b[0m\u001b[1;33m\u001b[0m\u001b[0m\n",
      "\u001b[1;32m~\\Anaconda3\\lib\\site-packages\\yfinance\\base.py\u001b[0m in \u001b[0;36mhistory\u001b[1;34m(self, period, interval, start, end, prepost, actions, auto_adjust, back_adjust, proxy, rounding, tz, **kwargs)\u001b[0m\n\u001b[0;32m    160\u001b[0m                                \u001b[1;34m\"Our engineers are working quickly to resolve \"\u001b[0m\u001b[1;33m\u001b[0m\u001b[1;33m\u001b[0m\u001b[0m\n\u001b[0;32m    161\u001b[0m                                \"the issue. Thank you for your patience.\")\n\u001b[1;32m--> 162\u001b[1;33m         \u001b[0mdata\u001b[0m \u001b[1;33m=\u001b[0m \u001b[0mdata\u001b[0m\u001b[1;33m.\u001b[0m\u001b[0mjson\u001b[0m\u001b[1;33m(\u001b[0m\u001b[1;33m)\u001b[0m\u001b[1;33m\u001b[0m\u001b[1;33m\u001b[0m\u001b[0m\n\u001b[0m\u001b[0;32m    163\u001b[0m \u001b[1;33m\u001b[0m\u001b[0m\n\u001b[0;32m    164\u001b[0m         \u001b[1;31m# Work with errors\u001b[0m\u001b[1;33m\u001b[0m\u001b[1;33m\u001b[0m\u001b[1;33m\u001b[0m\u001b[0m\n",
      "\u001b[1;32m~\\Anaconda3\\lib\\site-packages\\requests\\models.py\u001b[0m in \u001b[0;36mjson\u001b[1;34m(self, **kwargs)\u001b[0m\n\u001b[0;32m    895\u001b[0m                     \u001b[1;31m# used.\u001b[0m\u001b[1;33m\u001b[0m\u001b[1;33m\u001b[0m\u001b[1;33m\u001b[0m\u001b[0m\n\u001b[0;32m    896\u001b[0m                     \u001b[1;32mpass\u001b[0m\u001b[1;33m\u001b[0m\u001b[1;33m\u001b[0m\u001b[0m\n\u001b[1;32m--> 897\u001b[1;33m         \u001b[1;32mreturn\u001b[0m \u001b[0mcomplexjson\u001b[0m\u001b[1;33m.\u001b[0m\u001b[0mloads\u001b[0m\u001b[1;33m(\u001b[0m\u001b[0mself\u001b[0m\u001b[1;33m.\u001b[0m\u001b[0mtext\u001b[0m\u001b[1;33m,\u001b[0m \u001b[1;33m**\u001b[0m\u001b[0mkwargs\u001b[0m\u001b[1;33m)\u001b[0m\u001b[1;33m\u001b[0m\u001b[1;33m\u001b[0m\u001b[0m\n\u001b[0m\u001b[0;32m    898\u001b[0m \u001b[1;33m\u001b[0m\u001b[0m\n\u001b[0;32m    899\u001b[0m     \u001b[1;33m@\u001b[0m\u001b[0mproperty\u001b[0m\u001b[1;33m\u001b[0m\u001b[1;33m\u001b[0m\u001b[0m\n",
      "\u001b[1;32m~\\Anaconda3\\lib\\json\\__init__.py\u001b[0m in \u001b[0;36mloads\u001b[1;34m(s, encoding, cls, object_hook, parse_float, parse_int, parse_constant, object_pairs_hook, **kw)\u001b[0m\n\u001b[0;32m    346\u001b[0m             \u001b[0mparse_int\u001b[0m \u001b[1;32mis\u001b[0m \u001b[1;32mNone\u001b[0m \u001b[1;32mand\u001b[0m \u001b[0mparse_float\u001b[0m \u001b[1;32mis\u001b[0m \u001b[1;32mNone\u001b[0m \u001b[1;32mand\u001b[0m\u001b[1;33m\u001b[0m\u001b[1;33m\u001b[0m\u001b[0m\n\u001b[0;32m    347\u001b[0m             parse_constant is None and object_pairs_hook is None and not kw):\n\u001b[1;32m--> 348\u001b[1;33m         \u001b[1;32mreturn\u001b[0m \u001b[0m_default_decoder\u001b[0m\u001b[1;33m.\u001b[0m\u001b[0mdecode\u001b[0m\u001b[1;33m(\u001b[0m\u001b[0ms\u001b[0m\u001b[1;33m)\u001b[0m\u001b[1;33m\u001b[0m\u001b[1;33m\u001b[0m\u001b[0m\n\u001b[0m\u001b[0;32m    349\u001b[0m     \u001b[1;32mif\u001b[0m \u001b[0mcls\u001b[0m \u001b[1;32mis\u001b[0m \u001b[1;32mNone\u001b[0m\u001b[1;33m:\u001b[0m\u001b[1;33m\u001b[0m\u001b[1;33m\u001b[0m\u001b[0m\n\u001b[0;32m    350\u001b[0m         \u001b[0mcls\u001b[0m \u001b[1;33m=\u001b[0m \u001b[0mJSONDecoder\u001b[0m\u001b[1;33m\u001b[0m\u001b[1;33m\u001b[0m\u001b[0m\n",
      "\u001b[1;32m~\\Anaconda3\\lib\\json\\decoder.py\u001b[0m in \u001b[0;36mdecode\u001b[1;34m(self, s, _w)\u001b[0m\n\u001b[0;32m    335\u001b[0m \u001b[1;33m\u001b[0m\u001b[0m\n\u001b[0;32m    336\u001b[0m         \"\"\"\n\u001b[1;32m--> 337\u001b[1;33m         \u001b[0mobj\u001b[0m\u001b[1;33m,\u001b[0m \u001b[0mend\u001b[0m \u001b[1;33m=\u001b[0m \u001b[0mself\u001b[0m\u001b[1;33m.\u001b[0m\u001b[0mraw_decode\u001b[0m\u001b[1;33m(\u001b[0m\u001b[0ms\u001b[0m\u001b[1;33m,\u001b[0m \u001b[0midx\u001b[0m\u001b[1;33m=\u001b[0m\u001b[0m_w\u001b[0m\u001b[1;33m(\u001b[0m\u001b[0ms\u001b[0m\u001b[1;33m,\u001b[0m \u001b[1;36m0\u001b[0m\u001b[1;33m)\u001b[0m\u001b[1;33m.\u001b[0m\u001b[0mend\u001b[0m\u001b[1;33m(\u001b[0m\u001b[1;33m)\u001b[0m\u001b[1;33m)\u001b[0m\u001b[1;33m\u001b[0m\u001b[1;33m\u001b[0m\u001b[0m\n\u001b[0m\u001b[0;32m    338\u001b[0m         \u001b[0mend\u001b[0m \u001b[1;33m=\u001b[0m \u001b[0m_w\u001b[0m\u001b[1;33m(\u001b[0m\u001b[0ms\u001b[0m\u001b[1;33m,\u001b[0m \u001b[0mend\u001b[0m\u001b[1;33m)\u001b[0m\u001b[1;33m.\u001b[0m\u001b[0mend\u001b[0m\u001b[1;33m(\u001b[0m\u001b[1;33m)\u001b[0m\u001b[1;33m\u001b[0m\u001b[1;33m\u001b[0m\u001b[0m\n\u001b[0;32m    339\u001b[0m         \u001b[1;32mif\u001b[0m \u001b[0mend\u001b[0m \u001b[1;33m!=\u001b[0m \u001b[0mlen\u001b[0m\u001b[1;33m(\u001b[0m\u001b[0ms\u001b[0m\u001b[1;33m)\u001b[0m\u001b[1;33m:\u001b[0m\u001b[1;33m\u001b[0m\u001b[1;33m\u001b[0m\u001b[0m\n",
      "\u001b[1;32m~\\Anaconda3\\lib\\json\\decoder.py\u001b[0m in \u001b[0;36mraw_decode\u001b[1;34m(self, s, idx)\u001b[0m\n\u001b[0;32m    353\u001b[0m             \u001b[0mobj\u001b[0m\u001b[1;33m,\u001b[0m \u001b[0mend\u001b[0m \u001b[1;33m=\u001b[0m \u001b[0mself\u001b[0m\u001b[1;33m.\u001b[0m\u001b[0mscan_once\u001b[0m\u001b[1;33m(\u001b[0m\u001b[0ms\u001b[0m\u001b[1;33m,\u001b[0m \u001b[0midx\u001b[0m\u001b[1;33m)\u001b[0m\u001b[1;33m\u001b[0m\u001b[1;33m\u001b[0m\u001b[0m\n\u001b[0;32m    354\u001b[0m         \u001b[1;32mexcept\u001b[0m \u001b[0mStopIteration\u001b[0m \u001b[1;32mas\u001b[0m \u001b[0merr\u001b[0m\u001b[1;33m:\u001b[0m\u001b[1;33m\u001b[0m\u001b[1;33m\u001b[0m\u001b[0m\n\u001b[1;32m--> 355\u001b[1;33m             \u001b[1;32mraise\u001b[0m \u001b[0mJSONDecodeError\u001b[0m\u001b[1;33m(\u001b[0m\u001b[1;34m\"Expecting value\"\u001b[0m\u001b[1;33m,\u001b[0m \u001b[0ms\u001b[0m\u001b[1;33m,\u001b[0m \u001b[0merr\u001b[0m\u001b[1;33m.\u001b[0m\u001b[0mvalue\u001b[0m\u001b[1;33m)\u001b[0m \u001b[1;32mfrom\u001b[0m \u001b[1;32mNone\u001b[0m\u001b[1;33m\u001b[0m\u001b[1;33m\u001b[0m\u001b[0m\n\u001b[0m\u001b[0;32m    356\u001b[0m         \u001b[1;32mreturn\u001b[0m \u001b[0mobj\u001b[0m\u001b[1;33m,\u001b[0m \u001b[0mend\u001b[0m\u001b[1;33m\u001b[0m\u001b[1;33m\u001b[0m\u001b[0m\n",
      "\u001b[1;31mJSONDecodeError\u001b[0m: Expecting value: line 1 column 1 (char 0)"
     ]
    }
   ],
   "source": [
    "stocks=stockName('NIFTY50.csv')\n",
    "# stocks=stockName('MIDCAP50_Yahoo.csv')\n",
    "# stocks=stockName('SMALLCAP50.csv')\n",
    "#stocks=stockName('MIDCAP150.csv')\n",
    "dict_nifty_details=niftyStocks(stocks)\n",
    "dict_nifty_returns=niftyReturn()\n",
    "# dict1={'Name':stocks,'CMP':CMP,'MarketCap':MC,'TrailingPE':TPE,'1MonthReturn':month_ret,'1MonthPercentile':month_percentile,\n",
    "#       '3MonthReturn':three_month_ret,'3MonthPercentile':three_month_percentile,\n",
    "#      '6MonthReturn':six_month_ret,'6MonthPercentile':six_month_percentile,\n",
    "#       '1YearReturn':one_year_ret,'1YearPercentile':one_year_percentile}\n",
    "# dict2={'Name':stocks,'CMP':CMP,'MarketCap*10^12':MC,'TrailingPE':TPE,'AvgScore':Avg_Score}\n",
    "# data_Df=pd.DataFrame(dict2)\n",
    "# data_Df"
   ]
  },
  {
   "cell_type": "code",
   "execution_count": 9,
   "metadata": {},
   "outputs": [
    {
     "ename": "NameError",
     "evalue": "name 'dict_nifty_details' is not defined",
     "output_type": "error",
     "traceback": [
      "\u001b[1;31m---------------------------------------------------------------------------\u001b[0m",
      "\u001b[1;31mNameError\u001b[0m                                 Traceback (most recent call last)",
      "\u001b[1;32m<ipython-input-9-061fce345368>\u001b[0m in \u001b[0;36m<module>\u001b[1;34m\u001b[0m\n\u001b[1;32m----> 1\u001b[1;33m \u001b[0mdf\u001b[0m\u001b[1;33m=\u001b[0m\u001b[0mpd\u001b[0m\u001b[1;33m.\u001b[0m\u001b[0mDataFrame\u001b[0m\u001b[1;33m(\u001b[0m\u001b[0mdict_nifty_details\u001b[0m\u001b[1;33m)\u001b[0m\u001b[1;33m\u001b[0m\u001b[1;33m\u001b[0m\u001b[0m\n\u001b[0m\u001b[0;32m      2\u001b[0m \u001b[0mdf1\u001b[0m\u001b[1;33m=\u001b[0m\u001b[0mpd\u001b[0m\u001b[1;33m.\u001b[0m\u001b[0mDataFrame\u001b[0m\u001b[1;33m(\u001b[0m\u001b[0mdict_nifty_returns\u001b[0m\u001b[1;33m)\u001b[0m\u001b[1;33m\u001b[0m\u001b[1;33m\u001b[0m\u001b[0m\n\u001b[0;32m      3\u001b[0m \u001b[0mdf1\u001b[0m\u001b[1;33m=\u001b[0m\u001b[0mdf1\u001b[0m\u001b[1;33m[\u001b[0m\u001b[1;33m[\u001b[0m\u001b[1;34m'Name'\u001b[0m\u001b[1;33m,\u001b[0m\u001b[1;34m'AvgScore'\u001b[0m\u001b[1;33m]\u001b[0m\u001b[1;33m]\u001b[0m\u001b[1;33m\u001b[0m\u001b[1;33m\u001b[0m\u001b[0m\n\u001b[0;32m      4\u001b[0m \u001b[0mdf2\u001b[0m\u001b[1;33m=\u001b[0m\u001b[0mpd\u001b[0m\u001b[1;33m.\u001b[0m\u001b[0mmerge\u001b[0m\u001b[1;33m(\u001b[0m\u001b[0mdf\u001b[0m\u001b[1;33m,\u001b[0m\u001b[0mdf1\u001b[0m\u001b[1;33m,\u001b[0m\u001b[0mhow\u001b[0m\u001b[1;33m=\u001b[0m\u001b[1;34m'inner'\u001b[0m\u001b[1;33m,\u001b[0m\u001b[0mon\u001b[0m\u001b[1;33m=\u001b[0m\u001b[1;34m'Name'\u001b[0m\u001b[1;33m)\u001b[0m\u001b[1;33m\u001b[0m\u001b[1;33m\u001b[0m\u001b[0m\n\u001b[0;32m      5\u001b[0m \u001b[0mdf2\u001b[0m\u001b[1;33m.\u001b[0m\u001b[0msort_values\u001b[0m\u001b[1;33m(\u001b[0m\u001b[0mby\u001b[0m\u001b[1;33m=\u001b[0m\u001b[1;34m'AvgScore'\u001b[0m\u001b[1;33m,\u001b[0m\u001b[0mascending\u001b[0m\u001b[1;33m=\u001b[0m\u001b[1;32mFalse\u001b[0m\u001b[1;33m)\u001b[0m\u001b[1;33m[\u001b[0m\u001b[1;33m:\u001b[0m\u001b[1;36m50\u001b[0m\u001b[1;33m]\u001b[0m\u001b[1;33m\u001b[0m\u001b[1;33m\u001b[0m\u001b[0m\n",
      "\u001b[1;31mNameError\u001b[0m: name 'dict_nifty_details' is not defined"
     ]
    }
   ],
   "source": [
    "df=pd.DataFrame(dict_nifty_details)\n",
    "df1=pd.DataFrame(dict_nifty_returns)\n",
    "df1=df1[['Name','AvgScore']]\n",
    "df2=pd.merge(df,df1,how='inner',on='Name')\n",
    "df2.sort_values(by='AvgScore',ascending=False)[:50]"
   ]
  },
  {
   "cell_type": "code",
   "execution_count": null,
   "metadata": {},
   "outputs": [],
   "source": [
    "# data_Df['']\n",
    "data_Df.sort_values(by='AvgScore',ascending=False)"
   ]
  },
  {
   "cell_type": "markdown",
   "metadata": {},
   "source": [
    "# NIFTY MIDCAP50\n",
    "Read the nifty50 file and get the return data"
   ]
  },
  {
   "cell_type": "code",
   "execution_count": null,
   "metadata": {
    "scrolled": true
   },
   "outputs": [],
   "source": [
    "stocks=stockName('MIDCAP50_Yahoo.csv')\n",
    "niftyStocks(stocks)\n",
    "niftyReturn()\n",
    "# niftyReturn()"
   ]
  },
  {
   "cell_type": "code",
   "execution_count": null,
   "metadata": {},
   "outputs": [],
   "source": [
    "dict1_midCap={'Name':stocks,'CMP':CMP,'MarketCap':MC,'TrailingPE':TPE,'1MonthReturn':month_ret,'1MonthPercentile':month_percentile,\n",
    "      '3MonthReturn':three_month_ret,'3MonthPercentile':three_month_percentile,\n",
    "     '6MonthReturn':six_month_ret,'6MonthPercentile':six_month_percentile,\n",
    "      '1YearReturn':one_year_ret,'1YearPercentile':one_year_percentile}\n",
    "dict2_midCap={'Name':stocks,'CMP':CMP,'MarketCap*10^12':MC,'TrailingPE':TPE,'AvgScore':Avg_Score}\n",
    "data_Df=pd.DataFrame(dict2_midCap)\n",
    "data_Df"
   ]
  },
  {
   "cell_type": "code",
   "execution_count": null,
   "metadata": {},
   "outputs": [],
   "source": [
    "import datetime\n",
    "start = datetime.datetime(2012,5,31)\n",
    "end = datetime.datetime(2018,3,1)\n",
    "stocks1=['UPL.NS','WIPRO.NS']\n",
    "data1 = yfin.download(stocks, start=start, end=end)"
   ]
  },
  {
   "cell_type": "markdown",
   "metadata": {},
   "source": [
    "# No.of Days Nifty Ended positive and Negative\n",
    "To calculate no.of positve and negative days in a annual year"
   ]
  },
  {
   "cell_type": "code",
   "execution_count": null,
   "metadata": {},
   "outputs": [],
   "source": []
  },
  {
   "cell_type": "markdown",
   "metadata": {},
   "source": [
    "# P/E Ratio of Nifty"
   ]
  },
  {
   "cell_type": "code",
   "execution_count": null,
   "metadata": {},
   "outputs": [],
   "source": [
    "import googlefinance as gfin"
   ]
  },
  {
   "cell_type": "code",
   "execution_count": null,
   "metadata": {},
   "outputs": [],
   "source": [
    "import json\n",
    "\n",
    "import requests\n",
    "\n",
    "rsp = requests.get('https://finance.google.com/finance?q=AAPL&output=json')\n",
    "fin_data = json.loads(rsp.content[6:-2].decode('unicode_escape'))\n"
   ]
  },
  {
   "cell_type": "code",
   "execution_count": null,
   "metadata": {},
   "outputs": [],
   "source": [
    "rsp"
   ]
  },
  {
   "cell_type": "code",
   "execution_count": null,
   "metadata": {},
   "outputs": [],
   "source": []
  }
 ],
 "metadata": {
  "kernelspec": {
   "display_name": "Python 3 (ipykernel)",
   "language": "python",
   "name": "python3"
  },
  "language_info": {
   "codemirror_mode": {
    "name": "ipython",
    "version": 3
   },
   "file_extension": ".py",
   "mimetype": "text/x-python",
   "name": "python",
   "nbconvert_exporter": "python",
   "pygments_lexer": "ipython3",
   "version": "3.11.7"
  }
 },
 "nbformat": 4,
 "nbformat_minor": 2
}
